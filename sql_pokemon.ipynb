{
 "cells": [
  {
   "cell_type": "code",
   "execution_count": 1,
   "id": "50ab570a",
   "metadata": {},
   "outputs": [],
   "source": [
    "import pandas as pd\n",
    "import pymssql as sql\n",
    "import warnings\n",
    "from IPython.display import Image\n",
    "\n",
    "warnings.filterwarnings('ignore')\n",
    "\n",
    "conexao = sql.connect(server='192.168.0.56', database='POKEDEX')\n",
    "df = pd.read_sql_query('SELECT * FROM POK_BD', conexao)\n"
   ]
  },
  {
   "cell_type": "code",
   "execution_count": 2,
   "id": "83c23411",
   "metadata": {},
   "outputs": [],
   "source": [
    "def procura_poke_avif(nome):\n",
    "    \n",
    "    # URL do sprite do Pikachu\n",
    "    sprite_url = f\"https://img.pokemondb.net/sprites/home/normal/2x/avif/{nome}.avif\"\n",
    "\n",
    "    # Exibe a imagem no Jupyter Notebook\n",
    "    return Image(url=sprite_url)\n",
    "\n",
    "def procura_poke_png(nome):\n",
    "    \n",
    "    # URL do sprite do Pikachu\n",
    "    sprite_url = f\"https://img.pokemondb.net/sprites/scarlet-violet/normal/{nome}.png\"\n",
    "\n",
    "    # Exibe a imagem no Jupyter Notebook\n",
    "    return Image(url=sprite_url)\n",
    "    "
   ]
  },
  {
   "cell_type": "code",
   "execution_count": null,
   "id": "db2a2530",
   "metadata": {
    "scrolled": false
   },
   "outputs": [
    {
     "name": "stdout",
     "output_type": "stream",
     "text": [
      "Digite o numero da Pokedex do pokemon que você deseja ver:\n",
      "950\n",
      "\n",
      "\n"
     ]
    },
    {
     "data": {
      "text/html": [
       "<img src=\"https://img.pokemondb.net/sprites/scarlet-violet/normal/klawf.png\"/>"
      ],
      "text/plain": [
       "<IPython.core.display.Image object>"
      ]
     },
     "metadata": {},
     "output_type": "display_data"
    },
    {
     "name": "stdout",
     "output_type": "stream",
     "text": [
      "NUMERO: 950\n",
      "NOME:   Klawf\n",
      "TIPO 1: Rock\n",
      "TIPO 2: None\n",
      "\n",
      "   --ATRIBUTOS:\n",
      "       •HP:     70\n",
      "       •ATK:    100\n",
      "       •DEF:    115\n",
      "       •SP ATK: 35\n",
      "       •SP DEF: 55\n",
      "       •SP:     75\n",
      "       •TOTAL:  450\n",
      "\n",
      "Deseja buscar um novo pokemon?\n",
      "[1] - Sim\n",
      "[2] - Não\n",
      "ouh\n",
      "Digite o numero da Pokedex do pokemon que você deseja ver:\n",
      "150\n",
      "\n",
      "\n"
     ]
    },
    {
     "data": {
      "text/html": [
       "<img src=\"https://img.pokemondb.net/sprites/home/normal/2x/avif/mewtwo.avif\"/>"
      ],
      "text/plain": [
       "<IPython.core.display.Image object>"
      ]
     },
     "metadata": {},
     "output_type": "display_data"
    },
    {
     "name": "stdout",
     "output_type": "stream",
     "text": [
      "NUMERO: 150\n",
      "NOME:   Mewtwo\n",
      "TIPO 1: Psychic\n",
      "TIPO 2: None\n",
      "\n",
      "   --ATRIBUTOS:\n",
      "       •HP:     106\n",
      "       •ATK:    110\n",
      "       •DEF:    90\n",
      "       •SP ATK: 154\n",
      "       •SP DEF: 90\n",
      "       •SP:     130\n",
      "       •TOTAL:  680\n",
      "\n"
     ]
    }
   ],
   "source": [
    "while True:\n",
    "    pokemon = input('Digite o numero da Pokedex do pokemon que você deseja ver:\\n')\n",
    "\n",
    "\n",
    "    if not pokemon.isnumeric:\n",
    "        print('Por favor digite um numero valido')\n",
    "        continue\n",
    "\n",
    "    pokemon = int(pokemon)\n",
    "\n",
    "    poke_info = df.loc[df['id_pokemon'] == pokemon]\n",
    "    img_poke= poke_info[\"name_pokemon\"].values[0]\n",
    "\n",
    "    if not  poke_info.empty:\n",
    "        print('\\n')\n",
    "        \n",
    "        if pokemon >= 906:\n",
    "            display(procura_poke_png( img_poke.lower()))\n",
    "        else:\n",
    "            display(procura_poke_avif( img_poke.lower()))\n",
    "            \n",
    "        print(f'NUMERO: {poke_info[\"id_pokemon\"].values[0]}\\n'\n",
    "              f'NOME:   {poke_info[\"name_pokemon\"].values[0]}\\n'\n",
    "              f'TIPO 1: {poke_info[\"type_1\"].values[0]}\\n'\n",
    "              f'TIPO 2: {poke_info[\"type_2\"].values[0]}\\n\\n'\n",
    "              f'   --ATRIBUTOS:\\n'\n",
    "              f'       •HP:     {poke_info[\"hp\"].values[0]}\\n'\n",
    "              f'       •ATK:    {poke_info[\"attack\"].values[0]}\\n'\n",
    "              f'       •DEF:    {poke_info[\"defense\"].values[0]}\\n'\n",
    "              f'       •SP ATK: {poke_info[\"sp_atk\"].values[0]}\\n'\n",
    "              f'       •SP DEF: {poke_info[\"sp_def\"].values[0]}\\n'\n",
    "              f'       •SP:     {poke_info[\"speed\"].values[0]}\\n'\n",
    "              f'       •TOTAL:  {poke_info[\"total\"].values[0]}\\n')\n",
    "    else:\n",
    "        print(\"Valor não encontrado.\")\n",
    "        continue\n",
    "        \n",
    "    fim = input('Deseja buscar um novo pokemon?\\n'\n",
    "                '[1] - Sim\\n'\n",
    "                '[2] - Não\\n')\n",
    "    \n",
    "    if fim == \"2\":\n",
    "        print('Até logo')\n",
    "        break\n",
    "    "
   ]
  }
 ],
 "metadata": {
  "kernelspec": {
   "display_name": "Python 3 (ipykernel)",
   "language": "python",
   "name": "python3"
  },
  "language_info": {
   "codemirror_mode": {
    "name": "ipython",
    "version": 3
   },
   "file_extension": ".py",
   "mimetype": "text/x-python",
   "name": "python",
   "nbconvert_exporter": "python",
   "pygments_lexer": "ipython3",
   "version": "3.9.13"
  }
 },
 "nbformat": 4,
 "nbformat_minor": 5
}
